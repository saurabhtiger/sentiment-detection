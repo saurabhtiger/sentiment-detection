{
 "cells": [
  {
   "attachments": {},
   "cell_type": "markdown",
   "metadata": {},
   "source": [
    "### Deliverables:"
   ]
  },
  {
   "attachments": {},
   "cell_type": "markdown",
   "metadata": {},
   "source": [
    "#### 1. Data Preparation - NLP "
   ]
  },
  {
   "attachments": {},
   "cell_type": "markdown",
   "metadata": {},
   "source": [
    "##### Q3: Identify the special characters to keep and remove from the text"
   ]
  },
  {
   "attachments": {},
   "cell_type": "markdown",
   "metadata": {},
   "source": [
    "- Removing special characters using regex"
   ]
  },
  {
   "attachments": {},
   "cell_type": "markdown",
   "metadata": {},
   "source": [
    "-- Importing Modules"
   ]
  },
  {
   "cell_type": "code",
   "execution_count": 1,
   "metadata": {},
   "outputs": [
    {
     "data": {
      "text/plain": [
       "<spacy.lang.en.English at 0x180c4735f70>"
      ]
     },
     "execution_count": 1,
     "metadata": {},
     "output_type": "execute_result"
    }
   ],
   "source": [
    "import pandas as pd\n",
    "import numpy as np\n",
    "import os\n",
    "import nltk\n",
    "import re\n",
    "import spacy\n",
    "spacy.load(\"en_core_web_lg\")"
   ]
  },
  {
   "cell_type": "code",
   "execution_count": 2,
   "metadata": {},
   "outputs": [
    {
     "name": "stdout",
     "output_type": "stream",
     "text": [
      "<class 'pandas.core.frame.DataFrame'>\n",
      "RangeIndex: 3486 entries, 0 to 3485\n",
      "Data columns (total 3 columns):\n",
      " #   Column             Non-Null Count  Dtype  \n",
      "---  ------             --------------  -----  \n",
      " 0   review_id          3486 non-null   float64\n",
      " 1   translated_review  3481 non-null   object \n",
      " 2   actual_sentiment   3482 non-null   object \n",
      "dtypes: float64(1), object(2)\n",
      "memory usage: 81.8+ KB\n",
      "None Shape: (3486, 3)\n"
     ]
    }
   ],
   "source": [
    "df = pd.read_excel(\"D:/NLP/data/bank_a_sentiment_analysis_translated_inputdata.xlsx\")\n",
    "print(df.info(),\"Shape:\",df.shape)\n",
    "df = df[[\"translated_review\",\"actual_sentiment\"]]"
   ]
  },
  {
   "cell_type": "code",
   "execution_count": 3,
   "metadata": {},
   "outputs": [],
   "source": [
    "def preprocess(sentence):\n",
    "    sentence=str(sentence)\n",
    "    sentence = sentence.lower()\n",
    "    cleanr = re.compile('<.*?>')\n",
    "    cleantext = re.sub(cleanr, '', sentence)\n",
    "\n",
    "    return \"\".join(cleantext)\n",
    "\n",
    "df['cleanText']=df['translated_review'].map(lambda s:preprocess(s)) "
   ]
  },
  {
   "cell_type": "code",
   "execution_count": null,
   "metadata": {},
   "outputs": [
    {
     "data": {
      "text/html": [
       "<div>\n",
       "<style scoped>\n",
       "    .dataframe tbody tr th:only-of-type {\n",
       "        vertical-align: middle;\n",
       "    }\n",
       "\n",
       "    .dataframe tbody tr th {\n",
       "        vertical-align: top;\n",
       "    }\n",
       "\n",
       "    .dataframe thead th {\n",
       "        text-align: right;\n",
       "    }\n",
       "</style>\n",
       "<table border=\"1\" class=\"dataframe\">\n",
       "  <thead>\n",
       "    <tr style=\"text-align: right;\">\n",
       "      <th></th>\n",
       "      <th>translated_review</th>\n",
       "      <th>actual_sentiment</th>\n",
       "      <th>cleanText</th>\n",
       "    </tr>\n",
       "  </thead>\n",
       "  <tbody>\n",
       "    <tr>\n",
       "      <th>0</th>\n",
       "      <td>in the branch of san marco evangelista, the em...</td>\n",
       "      <td>Positive</td>\n",
       "      <td>in the branch of san marco evangelista, the em...</td>\n",
       "    </tr>\n",
       "    <tr>\n",
       "      <th>1</th>\n",
       "      <td>5 00 of commissions to withdraw your money at ...</td>\n",
       "      <td>Negative</td>\n",
       "      <td>5 00 of commissions to withdraw your money at ...</td>\n",
       "    </tr>\n",
       "    <tr>\n",
       "      <th>2</th>\n",
       "      <td>when the f24 on the app thanks</td>\n",
       "      <td>Neutral</td>\n",
       "      <td>when the f24 on the app thanks</td>\n",
       "    </tr>\n",
       "    <tr>\n",
       "      <th>3</th>\n",
       "      <td>lower the commissions</td>\n",
       "      <td>Neutral</td>\n",
       "      <td>lower the commissions</td>\n",
       "    </tr>\n",
       "    <tr>\n",
       "      <th>4</th>\n",
       "      <td>promotes and supports the small business in th...</td>\n",
       "      <td>Positive</td>\n",
       "      <td>promotes and supports the small business in th...</td>\n",
       "    </tr>\n",
       "    <tr>\n",
       "      <th>...</th>\n",
       "      <td>...</td>\n",
       "      <td>...</td>\n",
       "      <td>...</td>\n",
       "    </tr>\n",
       "    <tr>\n",
       "      <th>3481</th>\n",
       "      <td>NaN</td>\n",
       "      <td>Negative</td>\n",
       "      <td>nan</td>\n",
       "    </tr>\n",
       "    <tr>\n",
       "      <th>3482</th>\n",
       "      <td>NaN</td>\n",
       "      <td>Positive</td>\n",
       "      <td>nan</td>\n",
       "    </tr>\n",
       "    <tr>\n",
       "      <th>3483</th>\n",
       "      <td>NaN</td>\n",
       "      <td>Positive</td>\n",
       "      <td>nan</td>\n",
       "    </tr>\n",
       "    <tr>\n",
       "      <th>3484</th>\n",
       "      <td>NaN</td>\n",
       "      <td>Neutral</td>\n",
       "      <td>nan</td>\n",
       "    </tr>\n",
       "    <tr>\n",
       "      <th>3485</th>\n",
       "      <td>NaN</td>\n",
       "      <td>Positive</td>\n",
       "      <td>nan</td>\n",
       "    </tr>\n",
       "  </tbody>\n",
       "</table>\n",
       "<p>3486 rows × 3 columns</p>\n",
       "</div>"
      ],
      "text/plain": [
       "                                      translated_review actual_sentiment  \\\n",
       "0     in the branch of san marco evangelista, the em...         Positive   \n",
       "1     5 00 of commissions to withdraw your money at ...         Negative   \n",
       "2                        when the f24 on the app thanks          Neutral   \n",
       "3                                 lower the commissions          Neutral   \n",
       "4     promotes and supports the small business in th...         Positive   \n",
       "...                                                 ...              ...   \n",
       "3481                                                NaN         Negative   \n",
       "3482                                                NaN         Positive   \n",
       "3483                                                NaN         Positive   \n",
       "3484                                                NaN          Neutral   \n",
       "3485                                                NaN         Positive   \n",
       "\n",
       "                                              cleanText  \n",
       "0     in the branch of san marco evangelista, the em...  \n",
       "1     5 00 of commissions to withdraw your money at ...  \n",
       "2                        when the f24 on the app thanks  \n",
       "3                                 lower the commissions  \n",
       "4     promotes and supports the small business in th...  \n",
       "...                                                 ...  \n",
       "3481                                                nan  \n",
       "3482                                                nan  \n",
       "3483                                                nan  \n",
       "3484                                                nan  \n",
       "3485                                                nan  \n",
       "\n",
       "[3486 rows x 3 columns]"
      ]
     },
     "execution_count": 4,
     "metadata": {},
     "output_type": "execute_result"
    }
   ],
   "source": [
    "df"
   ]
  },
  {
   "cell_type": "code",
   "execution_count": null,
   "metadata": {},
   "outputs": [],
   "source": []
  }
 ],
 "metadata": {
  "kernelspec": {
   "display_name": "base",
   "language": "python",
   "name": "python3"
  },
  "language_info": {
   "codemirror_mode": {
    "name": "ipython",
    "version": 3
   },
   "file_extension": ".py",
   "mimetype": "text/x-python",
   "name": "python",
   "nbconvert_exporter": "python",
   "pygments_lexer": "ipython3",
   "version": "3.9.7"
  },
  "orig_nbformat": 4
 },
 "nbformat": 4,
 "nbformat_minor": 2
}
